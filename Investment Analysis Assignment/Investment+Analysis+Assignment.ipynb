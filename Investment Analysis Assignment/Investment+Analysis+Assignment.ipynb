{
 "cells": [
  {
   "cell_type": "markdown",
   "metadata": {},
   "source": [
    "# Checkpoint 1: Data Cleaning 1"
   ]
  },
  {
   "cell_type": "code",
   "execution_count": 765,
   "metadata": {
    "collapsed": true
   },
   "outputs": [],
   "source": [
    "import pandas as pd\n",
    "import numpy as np"
   ]
  },
  {
   "cell_type": "code",
   "execution_count": 766,
   "metadata": {
    "collapsed": true
   },
   "outputs": [],
   "source": [
    "# Load companies data\n",
    "companies = pd.read_csv('companies.txt', sep='\\t', encoding='iso-8859-1')"
   ]
  },
  {
   "cell_type": "code",
   "execution_count": 767,
   "metadata": {},
   "outputs": [
    {
     "name": "stdout",
     "output_type": "stream",
     "text": [
      "<class 'pandas.core.frame.DataFrame'>\n",
      "RangeIndex: 66368 entries, 0 to 66367\n",
      "Data columns (total 10 columns):\n",
      "permalink        66368 non-null object\n",
      "name             66367 non-null object\n",
      "homepage_url     61310 non-null object\n",
      "category_list    63220 non-null object\n",
      "status           66368 non-null object\n",
      "country_code     59410 non-null object\n",
      "state_code       57821 non-null object\n",
      "region           58338 non-null object\n",
      "city             58340 non-null object\n",
      "founded_at       51147 non-null object\n",
      "dtypes: object(10)\n",
      "memory usage: 5.1+ MB\n"
     ]
    }
   ],
   "source": [
    "companies.info()"
   ]
  },
  {
   "cell_type": "markdown",
   "metadata": {},
   "source": [
    "From results above we can conclude following points about companies data\n",
    "\n",
    "1) Total Row Count is 66368 having index from 0 to 66367\n",
    "\n",
    "2) Total Column Count is 10\n"
   ]
  },
  {
   "cell_type": "code",
   "execution_count": 768,
   "metadata": {},
   "outputs": [
    {
     "data": {
      "text/plain": [
       "permalink        66368\n",
       "name             66102\n",
       "homepage_url     61191\n",
       "category_list    27296\n",
       "status               4\n",
       "country_code       137\n",
       "state_code         311\n",
       "region            1092\n",
       "city              5111\n",
       "founded_at        3978\n",
       "dtype: int64"
      ]
     },
     "execution_count": 768,
     "metadata": {},
     "output_type": "execute_result"
    }
   ],
   "source": [
    "companies.nunique()"
   ]
  },
  {
   "cell_type": "markdown",
   "metadata": {},
   "source": [
    "From results above we can conclude following points about companies data\n",
    "\n",
    "1) Unique 'permalink' count is equal to total rows count\n"
   ]
  },
  {
   "cell_type": "code",
   "execution_count": 769,
   "metadata": {},
   "outputs": [
    {
     "data": {
      "text/plain": [
       "permalink         0.00\n",
       "name              0.00\n",
       "homepage_url      7.62\n",
       "category_list     4.74\n",
       "status            0.00\n",
       "country_code     10.48\n",
       "state_code       12.88\n",
       "region           12.10\n",
       "city             12.10\n",
       "founded_at       22.93\n",
       "dtype: float64"
      ]
     },
     "execution_count": 769,
     "metadata": {},
     "output_type": "execute_result"
    }
   ],
   "source": [
    "companies.apply(lambda x: (100* (x.isnull().sum()/ len(companies.index))).round(2))"
   ]
  },
  {
   "cell_type": "markdown",
   "metadata": {},
   "source": [
    "Column wise percentage of missing data.\n",
    "\n",
    "'founded_at' column have most missing data 22.93%\n",
    "  "
   ]
  },
  {
   "cell_type": "code",
   "execution_count": 770,
   "metadata": {
    "collapsed": true
   },
   "outputs": [],
   "source": [
    "# Dropping founded_at column\n",
    "companies.drop(labels=['founded_at'], inplace=True, axis=1)"
   ]
  },
  {
   "cell_type": "code",
   "execution_count": null,
   "metadata": {
    "collapsed": true
   },
   "outputs": [],
   "source": []
  },
  {
   "cell_type": "code",
   "execution_count": 771,
   "metadata": {
    "collapsed": true
   },
   "outputs": [],
   "source": [
    "# Load rounds2 data\n",
    "rounds2 = pd.read_csv('rounds2.csv', encoding='iso-8859-1')"
   ]
  },
  {
   "cell_type": "code",
   "execution_count": 772,
   "metadata": {},
   "outputs": [
    {
     "name": "stdout",
     "output_type": "stream",
     "text": [
      "<class 'pandas.core.frame.DataFrame'>\n",
      "RangeIndex: 114949 entries, 0 to 114948\n",
      "Data columns (total 6 columns):\n",
      "company_permalink          114949 non-null object\n",
      "funding_round_permalink    114949 non-null object\n",
      "funding_round_type         114949 non-null object\n",
      "funding_round_code         31140 non-null object\n",
      "funded_at                  114949 non-null object\n",
      "raised_amount_usd          94959 non-null float64\n",
      "dtypes: float64(1), object(5)\n",
      "memory usage: 5.3+ MB\n"
     ]
    }
   ],
   "source": [
    "rounds2.info()"
   ]
  },
  {
   "cell_type": "markdown",
   "metadata": {},
   "source": [
    "From results above we can conclude following points about rounds2 data\n",
    "\n",
    "1) Total Row Count is 114949 having index from 0 to 114948\n",
    "\n",
    "2) Total Column Count is 6"
   ]
  },
  {
   "cell_type": "code",
   "execution_count": 773,
   "metadata": {},
   "outputs": [
    {
     "data": {
      "text/plain": [
       "company_permalink           90247\n",
       "funding_round_permalink    114949\n",
       "funding_round_type             14\n",
       "funding_round_code              8\n",
       "funded_at                    5033\n",
       "raised_amount_usd           22095\n",
       "dtype: int64"
      ]
     },
     "execution_count": 773,
     "metadata": {},
     "output_type": "execute_result"
    }
   ],
   "source": [
    "rounds2.nunique()"
   ]
  },
  {
   "cell_type": "markdown",
   "metadata": {},
   "source": [
    "From results above we can conclude following points about companies data\n",
    "\n",
    "1) Unique 'funding_round_permalink' count is equal to total rows count"
   ]
  },
  {
   "cell_type": "code",
   "execution_count": 774,
   "metadata": {},
   "outputs": [
    {
     "data": {
      "text/plain": [
       "company_permalink           0.00\n",
       "funding_round_permalink     0.00\n",
       "funding_round_type          0.00\n",
       "funding_round_code         72.91\n",
       "funded_at                   0.00\n",
       "raised_amount_usd          17.39\n",
       "dtype: float64"
      ]
     },
     "execution_count": 774,
     "metadata": {},
     "output_type": "execute_result"
    }
   ],
   "source": [
    "rounds2.apply(lambda x: (100* (x.isnull().sum()/ len(rounds2.index))).round(2))"
   ]
  },
  {
   "cell_type": "markdown",
   "metadata": {},
   "source": [
    "Column wise percentage of missing data.\n",
    "\n",
    "'funding_round_code' column have most missing data 72.91%"
   ]
  },
  {
   "cell_type": "code",
   "execution_count": 775,
   "metadata": {
    "collapsed": true
   },
   "outputs": [],
   "source": [
    "# Dropping funding_round_code column\n",
    "rounds2.drop(labels=['funding_round_code'], inplace=True, axis=1)"
   ]
  },
  {
   "cell_type": "code",
   "execution_count": 776,
   "metadata": {},
   "outputs": [
    {
     "data": {
      "text/html": [
       "<div>\n",
       "<style>\n",
       "    .dataframe thead tr:only-child th {\n",
       "        text-align: right;\n",
       "    }\n",
       "\n",
       "    .dataframe thead th {\n",
       "        text-align: left;\n",
       "    }\n",
       "\n",
       "    .dataframe tbody tr th {\n",
       "        vertical-align: top;\n",
       "    }\n",
       "</style>\n",
       "<table border=\"1\" class=\"dataframe\">\n",
       "  <thead>\n",
       "    <tr style=\"text-align: right;\">\n",
       "      <th></th>\n",
       "      <th>company_permalink</th>\n",
       "      <th>funding_round_permalink</th>\n",
       "      <th>funding_round_type</th>\n",
       "      <th>funded_at</th>\n",
       "      <th>raised_amount_usd</th>\n",
       "    </tr>\n",
       "  </thead>\n",
       "  <tbody>\n",
       "    <tr>\n",
       "      <th>0</th>\n",
       "      <td>/organization/-fame</td>\n",
       "      <td>/funding-round/9a01d05418af9f794eebff7ace91f638</td>\n",
       "      <td>venture</td>\n",
       "      <td>05-01-2015</td>\n",
       "      <td>10000000.0</td>\n",
       "    </tr>\n",
       "    <tr>\n",
       "      <th>1</th>\n",
       "      <td>/ORGANIZATION/-QOUNTER</td>\n",
       "      <td>/funding-round/22dacff496eb7acb2b901dec1dfe5633</td>\n",
       "      <td>venture</td>\n",
       "      <td>14-10-2014</td>\n",
       "      <td>NaN</td>\n",
       "    </tr>\n",
       "    <tr>\n",
       "      <th>2</th>\n",
       "      <td>/organization/-qounter</td>\n",
       "      <td>/funding-round/b44fbb94153f6cdef13083530bb48030</td>\n",
       "      <td>seed</td>\n",
       "      <td>01-03-2014</td>\n",
       "      <td>700000.0</td>\n",
       "    </tr>\n",
       "    <tr>\n",
       "      <th>3</th>\n",
       "      <td>/ORGANIZATION/-THE-ONE-OF-THEM-INC-</td>\n",
       "      <td>/funding-round/650b8f704416801069bb178a1418776b</td>\n",
       "      <td>venture</td>\n",
       "      <td>30-01-2014</td>\n",
       "      <td>3406878.0</td>\n",
       "    </tr>\n",
       "    <tr>\n",
       "      <th>4</th>\n",
       "      <td>/organization/0-6-com</td>\n",
       "      <td>/funding-round/5727accaeaa57461bd22a9bdd945382d</td>\n",
       "      <td>venture</td>\n",
       "      <td>19-03-2008</td>\n",
       "      <td>2000000.0</td>\n",
       "    </tr>\n",
       "  </tbody>\n",
       "</table>\n",
       "</div>"
      ],
      "text/plain": [
       "                     company_permalink  \\\n",
       "0                  /organization/-fame   \n",
       "1               /ORGANIZATION/-QOUNTER   \n",
       "2               /organization/-qounter   \n",
       "3  /ORGANIZATION/-THE-ONE-OF-THEM-INC-   \n",
       "4                /organization/0-6-com   \n",
       "\n",
       "                           funding_round_permalink funding_round_type  \\\n",
       "0  /funding-round/9a01d05418af9f794eebff7ace91f638            venture   \n",
       "1  /funding-round/22dacff496eb7acb2b901dec1dfe5633            venture   \n",
       "2  /funding-round/b44fbb94153f6cdef13083530bb48030               seed   \n",
       "3  /funding-round/650b8f704416801069bb178a1418776b            venture   \n",
       "4  /funding-round/5727accaeaa57461bd22a9bdd945382d            venture   \n",
       "\n",
       "    funded_at  raised_amount_usd  \n",
       "0  05-01-2015         10000000.0  \n",
       "1  14-10-2014                NaN  \n",
       "2  01-03-2014           700000.0  \n",
       "3  30-01-2014          3406878.0  \n",
       "4  19-03-2008          2000000.0  "
      ]
     },
     "execution_count": 776,
     "metadata": {},
     "output_type": "execute_result"
    }
   ],
   "source": [
    "rounds2.head()"
   ]
  },
  {
   "cell_type": "markdown",
   "metadata": {},
   "source": [
    "As per description, company_permalink column has Unique ID of company.\n",
    "\n",
    "Also from sample data above we can see few data in company_permalink column is repeated just with change in upper to lower case\n",
    "\n",
    "So we will convert 'company_permalink' data in same case, we choose upper case"
   ]
  },
  {
   "cell_type": "code",
   "execution_count": 777,
   "metadata": {
    "collapsed": true
   },
   "outputs": [],
   "source": [
    "# Converting all 'company_permalink' data in upper case\n",
    "rounds2.company_permalink =  rounds2.company_permalink.map(lambda x: x.upper())"
   ]
  },
  {
   "cell_type": "markdown",
   "metadata": {},
   "source": [
    "# How many unique companies are present in rounds2?"
   ]
  },
  {
   "cell_type": "code",
   "execution_count": 778,
   "metadata": {},
   "outputs": [
    {
     "data": {
      "text/plain": [
       "66370"
      ]
     },
     "execution_count": 778,
     "metadata": {},
     "output_type": "execute_result"
    }
   ],
   "source": [
    "rounds2.company_permalink.nunique()"
   ]
  },
  {
   "cell_type": "markdown",
   "metadata": {},
   "source": [
    "# How many unique companies are present in companies?\n"
   ]
  },
  {
   "cell_type": "code",
   "execution_count": 779,
   "metadata": {},
   "outputs": [
    {
     "data": {
      "text/plain": [
       "66368"
      ]
     },
     "execution_count": 779,
     "metadata": {},
     "output_type": "execute_result"
    }
   ],
   "source": [
    "companies.permalink.nunique()"
   ]
  },
  {
   "cell_type": "markdown",
   "metadata": {},
   "source": [
    "# In the companies data frame, which column can be used as the unique key for each company? Write the name of the column."
   ]
  },
  {
   "cell_type": "markdown",
   "metadata": {},
   "source": [
    "As we can see no. of unique values in 'permalink' column is same as total no. of rows in companies. \n",
    "\n",
    "So we can treat 'permalink' as unique column for companies data frame."
   ]
  },
  {
   "cell_type": "markdown",
   "metadata": {},
   "source": [
    "# Are there any companies in the rounds2 file which are not present in companies?"
   ]
  },
  {
   "cell_type": "markdown",
   "metadata": {},
   "source": [
    "We will change the companies_permalink and permalink in rounds2 and companies dataframe to upper case to avoid any duplicacy issues"
   ]
  },
  {
   "cell_type": "code",
   "execution_count": null,
   "metadata": {
    "collapsed": true
   },
   "outputs": [],
   "source": []
  },
  {
   "cell_type": "code",
   "execution_count": 780,
   "metadata": {
    "collapsed": true
   },
   "outputs": [],
   "source": [
    "rounds2.company_permalink =  rounds2.company_permalink.map(lambda x: x.upper())\n",
    "companies.permalink = companies.permalink.map(lambda x: x.upper())\n"
   ]
  },
  {
   "cell_type": "code",
   "execution_count": 781,
   "metadata": {},
   "outputs": [
    {
     "data": {
      "text/plain": [
       "permalink        5\n",
       "name             5\n",
       "homepage_url     3\n",
       "category_list    3\n",
       "status           5\n",
       "country_code     0\n",
       "state_code       0\n",
       "region           0\n",
       "city             0\n",
       "dtype: int64"
      ]
     },
     "execution_count": 781,
     "metadata": {},
     "output_type": "execute_result"
    }
   ],
   "source": [
    "companies[~companies.permalink.isin(rounds2.company_permalink)].count()"
   ]
  },
  {
   "cell_type": "code",
   "execution_count": 782,
   "metadata": {},
   "outputs": [
    {
     "data": {
      "text/plain": [
       "company_permalink          7\n",
       "funding_round_permalink    7\n",
       "funding_round_type         7\n",
       "funded_at                  7\n",
       "raised_amount_usd          1\n",
       "dtype: int64"
      ]
     },
     "execution_count": 782,
     "metadata": {},
     "output_type": "execute_result"
    }
   ],
   "source": [
    "rounds2[~rounds2.company_permalink.isin(companies.permalink)].count()"
   ]
  },
  {
   "cell_type": "markdown",
   "metadata": {},
   "source": [
    "# Our cross validation from both the data frame suggests that there 5 and 7 companies in the rounds2 file which are not present in companies and vice versa"
   ]
  },
  {
   "cell_type": "markdown",
   "metadata": {},
   "source": [
    "# Merge the two data frames so that all variables (columns) in the companies frame are added to the rounds2 data frame.\n",
    "# Name the merged frame master_frame."
   ]
  },
  {
   "cell_type": "markdown",
   "metadata": {},
   "source": [
    "To merge we need a common key column, which is permalink in our case, we need to rename rounds2.companies_permalink to permalink"
   ]
  },
  {
   "cell_type": "code",
   "execution_count": 783,
   "metadata": {
    "collapsed": true
   },
   "outputs": [],
   "source": [
    "rounds2 = rounds2.rename(columns={'company_permalink':'permalink'})"
   ]
  },
  {
   "cell_type": "markdown",
   "metadata": {},
   "source": [
    "We need all data from rounds2 so it would be a left join"
   ]
  },
  {
   "cell_type": "code",
   "execution_count": 784,
   "metadata": {
    "collapsed": true
   },
   "outputs": [],
   "source": [
    "master_frame = rounds2.merge(companies, on='permalink', how='left')\n"
   ]
  },
  {
   "cell_type": "markdown",
   "metadata": {},
   "source": [
    "# How many observations are present in master_frame?\n"
   ]
  },
  {
   "cell_type": "code",
   "execution_count": 785,
   "metadata": {},
   "outputs": [
    {
     "data": {
      "text/plain": [
       "114949"
      ]
     },
     "execution_count": 785,
     "metadata": {},
     "output_type": "execute_result"
    }
   ],
   "source": [
    "len(master_frame.index)"
   ]
  },
  {
   "cell_type": "code",
   "execution_count": null,
   "metadata": {
    "collapsed": true
   },
   "outputs": [],
   "source": []
  },
  {
   "cell_type": "markdown",
   "metadata": {},
   "source": [
    "# Checkpoint 2: Funding Type Analysis"
   ]
  },
  {
   "cell_type": "markdown",
   "metadata": {},
   "source": [
    "#  Average Values of Investments for Each of these Funding Types"
   ]
  },
  {
   "cell_type": "code",
   "execution_count": 786,
   "metadata": {
    "collapsed": true,
    "scrolled": true
   },
   "outputs": [],
   "source": [
    "groupedMean = master_frame.groupby(by='funding_round_type')['raised_amount_usd'].mean().round(1)                                                                               "
   ]
  },
  {
   "cell_type": "code",
   "execution_count": 787,
   "metadata": {},
   "outputs": [
    {
     "data": {
      "text/plain": [
       "funding_round_type\n",
       "venture           11748949.1\n",
       "angel               958694.5\n",
       "seed                719818.0\n",
       "private_equity    73308593.0\n",
       "Name: raised_amount_usd, dtype: float64"
      ]
     },
     "execution_count": 787,
     "metadata": {},
     "output_type": "execute_result"
    }
   ],
   "source": [
    "\n",
    "groupedMean.loc[['venture','angel','seed','private_equity']]"
   ]
  },
  {
   "cell_type": "markdown",
   "metadata": {},
   "source": [
    "# Which investment type is the most suitable for Spark Funds based on criteria of 5 to 15 million USD per investment round"
   ]
  },
  {
   "cell_type": "code",
   "execution_count": 788,
   "metadata": {},
   "outputs": [
    {
     "data": {
      "text/plain": [
       "funding_round_type\n",
       "venture    11748949.1\n",
       "Name: raised_amount_usd, dtype: float64"
      ]
     },
     "execution_count": 788,
     "metadata": {},
     "output_type": "execute_result"
    }
   ],
   "source": [
    "groupedMean[((groupedMean > 5000000) & (groupedMean < 15000000))]"
   ]
  },
  {
   "cell_type": "markdown",
   "metadata": {},
   "source": [
    " For further analysis, filter the data so it only contains the chosen investment type."
   ]
  },
  {
   "cell_type": "code",
   "execution_count": 789,
   "metadata": {
    "collapsed": true
   },
   "outputs": [],
   "source": [
    "master_frame = master_frame[master_frame['funding_round_type'] == 'venture']   "
   ]
  },
  {
   "cell_type": "markdown",
   "metadata": {},
   "source": [
    "# Checkpoint 3: Country Analysis"
   ]
  },
  {
   "cell_type": "markdown",
   "metadata": {},
   "source": [
    "# Top nine countries which have received the highest total funding"
   ]
  },
  {
   "cell_type": "code",
   "execution_count": 790,
   "metadata": {
    "collapsed": true
   },
   "outputs": [],
   "source": [
    "countryWiseTotalRaisedAmount = master_frame.groupby(by='country_code')['raised_amount_usd'].sum()\n",
    "top9 = pd.DataFrame(countryWiseTotalRaisedAmount.sort_values(ascending=False)[0:9])"
   ]
  },
  {
   "cell_type": "code",
   "execution_count": 791,
   "metadata": {},
   "outputs": [
    {
     "data": {
      "text/html": [
       "<div>\n",
       "<style>\n",
       "    .dataframe thead tr:only-child th {\n",
       "        text-align: right;\n",
       "    }\n",
       "\n",
       "    .dataframe thead th {\n",
       "        text-align: left;\n",
       "    }\n",
       "\n",
       "    .dataframe tbody tr th {\n",
       "        vertical-align: top;\n",
       "    }\n",
       "</style>\n",
       "<table border=\"1\" class=\"dataframe\">\n",
       "  <thead>\n",
       "    <tr style=\"text-align: right;\">\n",
       "      <th></th>\n",
       "      <th>raised_amount_usd</th>\n",
       "    </tr>\n",
       "    <tr>\n",
       "      <th>country_code</th>\n",
       "      <th></th>\n",
       "    </tr>\n",
       "  </thead>\n",
       "  <tbody>\n",
       "    <tr>\n",
       "      <th>USA</th>\n",
       "      <td>4.225108e+11</td>\n",
       "    </tr>\n",
       "    <tr>\n",
       "      <th>CHN</th>\n",
       "      <td>3.983542e+10</td>\n",
       "    </tr>\n",
       "    <tr>\n",
       "      <th>GBR</th>\n",
       "      <td>2.024563e+10</td>\n",
       "    </tr>\n",
       "    <tr>\n",
       "      <th>IND</th>\n",
       "      <td>1.439186e+10</td>\n",
       "    </tr>\n",
       "    <tr>\n",
       "      <th>CAN</th>\n",
       "      <td>9.583332e+09</td>\n",
       "    </tr>\n",
       "    <tr>\n",
       "      <th>FRA</th>\n",
       "      <td>7.259537e+09</td>\n",
       "    </tr>\n",
       "    <tr>\n",
       "      <th>ISR</th>\n",
       "      <td>6.907515e+09</td>\n",
       "    </tr>\n",
       "    <tr>\n",
       "      <th>DEU</th>\n",
       "      <td>6.346960e+09</td>\n",
       "    </tr>\n",
       "    <tr>\n",
       "      <th>JPN</th>\n",
       "      <td>3.363677e+09</td>\n",
       "    </tr>\n",
       "  </tbody>\n",
       "</table>\n",
       "</div>"
      ],
      "text/plain": [
       "              raised_amount_usd\n",
       "country_code                   \n",
       "USA                4.225108e+11\n",
       "CHN                3.983542e+10\n",
       "GBR                2.024563e+10\n",
       "IND                1.439186e+10\n",
       "CAN                9.583332e+09\n",
       "FRA                7.259537e+09\n",
       "ISR                6.907515e+09\n",
       "DEU                6.346960e+09\n",
       "JPN                3.363677e+09"
      ]
     },
     "execution_count": 791,
     "metadata": {},
     "output_type": "execute_result"
    }
   ],
   "source": [
    "top9"
   ]
  },
  {
   "cell_type": "markdown",
   "metadata": {},
   "source": [
    "# Identify the top three English-speaking countries in the data frame top9."
   ]
  },
  {
   "cell_type": "markdown",
   "metadata": {},
   "source": [
    "Analysing the Top 3 English-Speaking Countries from the PDF of Englist Speaking Country\n",
    "\n",
    "Top 3 countries are\n",
    "\n",
    "1) USA\n",
    "\n",
    "2) GBR\n",
    "\n",
    "3) IND\n"
   ]
  },
  {
   "cell_type": "markdown",
   "metadata": {},
   "source": [
    "# Checkpoint 4: Sector Analysis 1"
   ]
  },
  {
   "cell_type": "code",
   "execution_count": 792,
   "metadata": {
    "collapsed": true
   },
   "outputs": [],
   "source": [
    "# Load mapping data\n",
    "mapping = pd.read_csv('mapping.csv', encoding='iso-8859-1')"
   ]
  },
  {
   "cell_type": "code",
   "execution_count": 793,
   "metadata": {},
   "outputs": [
    {
     "name": "stdout",
     "output_type": "stream",
     "text": [
      "<class 'pandas.core.frame.DataFrame'>\n",
      "RangeIndex: 688 entries, 0 to 687\n",
      "Data columns (total 10 columns):\n",
      "category_list                              687 non-null object\n",
      "Automotive & Sports                        688 non-null int64\n",
      "Blanks                                     688 non-null int64\n",
      "Cleantech / Semiconductors                 688 non-null int64\n",
      "Entertainment                              688 non-null int64\n",
      "Health                                     688 non-null int64\n",
      "Manufacturing                              688 non-null int64\n",
      "News, Search and Messaging                 688 non-null int64\n",
      "Others                                     688 non-null int64\n",
      "Social, Finance, Analytics, Advertising    688 non-null int64\n",
      "dtypes: int64(9), object(1)\n",
      "memory usage: 53.8+ KB\n"
     ]
    }
   ],
   "source": [
    "mapping.info()"
   ]
  },
  {
   "cell_type": "markdown",
   "metadata": {},
   "source": [
    "From results above we can conclude following points about companies data\n",
    "\n",
    "1) Total Row Count is 688 having index from 0 to 667\n",
    "\n",
    "2) Total Column Count is 10\n",
    "\n",
    "3) category_list have only 687 objects, i.e it contains missing values"
   ]
  },
  {
   "cell_type": "code",
   "execution_count": 794,
   "metadata": {},
   "outputs": [
    {
     "data": {
      "text/html": [
       "<div>\n",
       "<style>\n",
       "    .dataframe thead tr:only-child th {\n",
       "        text-align: right;\n",
       "    }\n",
       "\n",
       "    .dataframe thead th {\n",
       "        text-align: left;\n",
       "    }\n",
       "\n",
       "    .dataframe tbody tr th {\n",
       "        vertical-align: top;\n",
       "    }\n",
       "</style>\n",
       "<table border=\"1\" class=\"dataframe\">\n",
       "  <thead>\n",
       "    <tr style=\"text-align: right;\">\n",
       "      <th></th>\n",
       "      <th>category_list</th>\n",
       "      <th>Automotive &amp; Sports</th>\n",
       "      <th>Blanks</th>\n",
       "      <th>Cleantech / Semiconductors</th>\n",
       "      <th>Entertainment</th>\n",
       "      <th>Health</th>\n",
       "      <th>Manufacturing</th>\n",
       "      <th>News, Search and Messaging</th>\n",
       "      <th>Others</th>\n",
       "      <th>Social, Finance, Analytics, Advertising</th>\n",
       "    </tr>\n",
       "  </thead>\n",
       "  <tbody>\n",
       "    <tr>\n",
       "      <th>0</th>\n",
       "      <td>NaN</td>\n",
       "      <td>0</td>\n",
       "      <td>1</td>\n",
       "      <td>0</td>\n",
       "      <td>0</td>\n",
       "      <td>0</td>\n",
       "      <td>0</td>\n",
       "      <td>0</td>\n",
       "      <td>0</td>\n",
       "      <td>0</td>\n",
       "    </tr>\n",
       "    <tr>\n",
       "      <th>1</th>\n",
       "      <td>3D</td>\n",
       "      <td>0</td>\n",
       "      <td>0</td>\n",
       "      <td>0</td>\n",
       "      <td>0</td>\n",
       "      <td>0</td>\n",
       "      <td>1</td>\n",
       "      <td>0</td>\n",
       "      <td>0</td>\n",
       "      <td>0</td>\n",
       "    </tr>\n",
       "    <tr>\n",
       "      <th>2</th>\n",
       "      <td>3D Printing</td>\n",
       "      <td>0</td>\n",
       "      <td>0</td>\n",
       "      <td>0</td>\n",
       "      <td>0</td>\n",
       "      <td>0</td>\n",
       "      <td>1</td>\n",
       "      <td>0</td>\n",
       "      <td>0</td>\n",
       "      <td>0</td>\n",
       "    </tr>\n",
       "    <tr>\n",
       "      <th>3</th>\n",
       "      <td>3D Technology</td>\n",
       "      <td>0</td>\n",
       "      <td>0</td>\n",
       "      <td>0</td>\n",
       "      <td>0</td>\n",
       "      <td>0</td>\n",
       "      <td>1</td>\n",
       "      <td>0</td>\n",
       "      <td>0</td>\n",
       "      <td>0</td>\n",
       "    </tr>\n",
       "    <tr>\n",
       "      <th>4</th>\n",
       "      <td>Accounting</td>\n",
       "      <td>0</td>\n",
       "      <td>0</td>\n",
       "      <td>0</td>\n",
       "      <td>0</td>\n",
       "      <td>0</td>\n",
       "      <td>0</td>\n",
       "      <td>0</td>\n",
       "      <td>0</td>\n",
       "      <td>1</td>\n",
       "    </tr>\n",
       "  </tbody>\n",
       "</table>\n",
       "</div>"
      ],
      "text/plain": [
       "   category_list  Automotive & Sports  Blanks  Cleantech / Semiconductors  \\\n",
       "0            NaN                    0       1                           0   \n",
       "1             3D                    0       0                           0   \n",
       "2    3D Printing                    0       0                           0   \n",
       "3  3D Technology                    0       0                           0   \n",
       "4     Accounting                    0       0                           0   \n",
       "\n",
       "   Entertainment  Health  Manufacturing  News, Search and Messaging  Others  \\\n",
       "0              0       0              0                           0       0   \n",
       "1              0       0              1                           0       0   \n",
       "2              0       0              1                           0       0   \n",
       "3              0       0              1                           0       0   \n",
       "4              0       0              0                           0       0   \n",
       "\n",
       "   Social, Finance, Analytics, Advertising  \n",
       "0                                        0  \n",
       "1                                        0  \n",
       "2                                        0  \n",
       "3                                        0  \n",
       "4                                        1  "
      ]
     },
     "execution_count": 794,
     "metadata": {},
     "output_type": "execute_result"
    }
   ],
   "source": [
    "mapping.head()"
   ]
  },
  {
   "cell_type": "code",
   "execution_count": 795,
   "metadata": {
    "collapsed": true
   },
   "outputs": [],
   "source": [
    "# Drop missing values from mapping\n",
    "mapping.dropna(inplace=True)"
   ]
  },
  {
   "cell_type": "code",
   "execution_count": 796,
   "metadata": {
    "collapsed": true
   },
   "outputs": [],
   "source": [
    "# Droping Blanks column as we have no concrete data availabe for this column, that has any value\n",
    "mapping.drop(labels='Blanks', inplace=True, axis=1)"
   ]
  },
  {
   "cell_type": "code",
   "execution_count": 797,
   "metadata": {
    "collapsed": true
   },
   "outputs": [],
   "source": [
    "# We can see na is replaced by 0 Ex- Analyst is represented as A0lyst in category_list column\n",
    "# Fixing this \n",
    "mapping['category_list'] = mapping['category_list'].str.replace('0', 'na')"
   ]
  },
  {
   "cell_type": "code",
   "execution_count": null,
   "metadata": {
    "collapsed": true
   },
   "outputs": [],
   "source": []
  },
  {
   "cell_type": "code",
   "execution_count": 798,
   "metadata": {
    "collapsed": true
   },
   "outputs": [],
   "source": [
    "# Before going further lets add a data frame of main sectors corresponding to its category_list\n",
    "primary_to_main = {}\n",
    "primary = []\n",
    "mainSector = []\n",
    "for row in mapping.index:\n",
    "    for col in mapping:\n",
    "        if str(mapping.loc[row,col]) == '1':\n",
    "            primary.append(str(mapping.loc[row,'category_list']))\n",
    "            mainSector.append(str(col))          \n",
    "    continue          \n",
    "            \n"
   ]
  },
  {
   "cell_type": "code",
   "execution_count": 799,
   "metadata": {
    "collapsed": true
   },
   "outputs": [],
   "source": [
    "primary_to_main['category_list'] = primary\n",
    "primary_to_main['mainSector'] = mainSector"
   ]
  },
  {
   "cell_type": "code",
   "execution_count": 800,
   "metadata": {
    "collapsed": true
   },
   "outputs": [],
   "source": [
    "primaryToMain = pd.DataFrame(primary_to_main)"
   ]
  },
  {
   "cell_type": "markdown",
   "metadata": {},
   "source": [
    "# Merged data frame with each primary sector mapped to its main sector\n"
   ]
  },
  {
   "cell_type": "code",
   "execution_count": 801,
   "metadata": {},
   "outputs": [
    {
     "data": {
      "text/html": [
       "<div>\n",
       "<style>\n",
       "    .dataframe thead tr:only-child th {\n",
       "        text-align: right;\n",
       "    }\n",
       "\n",
       "    .dataframe thead th {\n",
       "        text-align: left;\n",
       "    }\n",
       "\n",
       "    .dataframe tbody tr th {\n",
       "        vertical-align: top;\n",
       "    }\n",
       "</style>\n",
       "<table border=\"1\" class=\"dataframe\">\n",
       "  <thead>\n",
       "    <tr style=\"text-align: right;\">\n",
       "      <th></th>\n",
       "      <th>category_list</th>\n",
       "      <th>mainSector</th>\n",
       "    </tr>\n",
       "  </thead>\n",
       "  <tbody>\n",
       "    <tr>\n",
       "      <th>0</th>\n",
       "      <td>3D</td>\n",
       "      <td>Manufacturing</td>\n",
       "    </tr>\n",
       "    <tr>\n",
       "      <th>1</th>\n",
       "      <td>3D Printing</td>\n",
       "      <td>Manufacturing</td>\n",
       "    </tr>\n",
       "    <tr>\n",
       "      <th>2</th>\n",
       "      <td>3D Technology</td>\n",
       "      <td>Manufacturing</td>\n",
       "    </tr>\n",
       "    <tr>\n",
       "      <th>3</th>\n",
       "      <td>Accounting</td>\n",
       "      <td>Social, Finance, Analytics, Advertising</td>\n",
       "    </tr>\n",
       "    <tr>\n",
       "      <th>4</th>\n",
       "      <td>Active Lifestyle</td>\n",
       "      <td>Health</td>\n",
       "    </tr>\n",
       "  </tbody>\n",
       "</table>\n",
       "</div>"
      ],
      "text/plain": [
       "      category_list                               mainSector\n",
       "0                3D                            Manufacturing\n",
       "1       3D Printing                            Manufacturing\n",
       "2     3D Technology                            Manufacturing\n",
       "3        Accounting  Social, Finance, Analytics, Advertising\n",
       "4  Active Lifestyle                                   Health"
      ]
     },
     "execution_count": 801,
     "metadata": {},
     "output_type": "execute_result"
    }
   ],
   "source": [
    "primaryToMain.head()"
   ]
  },
  {
   "cell_type": "code",
   "execution_count": 802,
   "metadata": {
    "collapsed": true
   },
   "outputs": [],
   "source": [
    "# Extracting the primary sector of each category list from the category_list column\n",
    "master_frame.category_list = master_frame.category_list.astype('str').apply(lambda x: x.split('|')[0])\n",
    "\n"
   ]
  },
  {
   "cell_type": "markdown",
   "metadata": {},
   "source": [
    "# Checkpoint 5: Sector Analysis 2\n"
   ]
  },
  {
   "cell_type": "code",
   "execution_count": 803,
   "metadata": {
    "collapsed": true
   },
   "outputs": [],
   "source": [
    "# Before Moving further and finding out D1, D2, D3 for USA, IND and GRB. \n",
    "# We already filtured out venture for investment type\n",
    "\n",
    "\n"
   ]
  },
  {
   "cell_type": "code",
   "execution_count": 804,
   "metadata": {
    "collapsed": true
   },
   "outputs": [],
   "source": [
    "# Filtering on country_code\n",
    "D1 =  master_frame[(master_frame['country_code'] == 'USA') & ((master_frame['raised_amount_usd'].astype('float') > 5000000) & (master_frame['raised_amount_usd'].astype('float') < 15000000))]\n",
    "D2 =  master_frame[(master_frame['country_code'] == 'GBR') & ((master_frame['raised_amount_usd'].astype('float') > 5000000) & (master_frame['raised_amount_usd'].astype('float') < 15000000))]\n",
    "D3 =  master_frame[(master_frame['country_code'] == 'IND') & ((master_frame['raised_amount_usd'].astype('float') > 5000000) & (master_frame['raised_amount_usd'].astype('float') < 15000000))]\n",
    "  \n"
   ]
  },
  {
   "cell_type": "code",
   "execution_count": null,
   "metadata": {
    "collapsed": true
   },
   "outputs": [],
   "source": []
  },
  {
   "cell_type": "code",
   "execution_count": null,
   "metadata": {
    "collapsed": true
   },
   "outputs": [],
   "source": []
  },
  {
   "cell_type": "code",
   "execution_count": 805,
   "metadata": {
    "collapsed": true
   },
   "outputs": [],
   "source": [
    "D1 = D1.merge(primaryToMain, on='category_list', how='inner')\n",
    "D2 = D2.merge(primaryToMain, on='category_list', how='inner')\n",
    "D3 = D3.merge(primaryToMain, on='category_list', how='inner')"
   ]
  },
  {
   "cell_type": "markdown",
   "metadata": {},
   "source": [
    "# Grouped Data for D1"
   ]
  },
  {
   "cell_type": "code",
   "execution_count": 806,
   "metadata": {
    "collapsed": true
   },
   "outputs": [],
   "source": [
    "\n",
    "mainSectorCount = D1.groupby(by=['mainSector'])['permalink'].count().to_frame()\n",
    "mainSectorRaisedAmount = D1.groupby(by=['mainSector'])['raised_amount_usd'].sum().to_frame()\n",
    "mainSectorCount.reset_index(inplace=True)\n",
    "mainSectorRaisedAmount.reset_index(inplace=True)\n",
    "groupedDataD1 = mainSectorRaisedAmount.merge(mainSectorCount, on='mainSector')\n",
    "D1 = D1.merge(groupedDataD1, on='mainSector')"
   ]
  },
  {
   "cell_type": "markdown",
   "metadata": {
    "collapsed": true
   },
   "source": [
    "# Grouped Data for D2"
   ]
  },
  {
   "cell_type": "code",
   "execution_count": 807,
   "metadata": {
    "collapsed": true
   },
   "outputs": [],
   "source": [
    "\n",
    "mainSectorCount = D2.groupby(by=['mainSector'])['permalink'].count().to_frame()\n",
    "mainSectorRaisedAmount = D2.groupby(by=['mainSector'])['raised_amount_usd'].sum().to_frame()\n",
    "mainSectorCount.reset_index(inplace=True)\n",
    "mainSectorRaisedAmount.reset_index(inplace=True)\n",
    "groupedDataD2 = mainSectorRaisedAmount.merge(mainSectorCount, on='mainSector')\n",
    "D2 = D2.merge(groupedDataD2, on='mainSector')"
   ]
  },
  {
   "cell_type": "markdown",
   "metadata": {},
   "source": [
    "# Grouped Data for D3"
   ]
  },
  {
   "cell_type": "code",
   "execution_count": 808,
   "metadata": {
    "collapsed": true
   },
   "outputs": [],
   "source": [
    "\n",
    "mainSectorCount = D3.groupby(by=['mainSector'])['permalink'].count().to_frame()\n",
    "mainSectorRaisedAmount = D3.groupby(by=['mainSector'])['raised_amount_usd'].sum().to_frame()\n",
    "mainSectorCount.reset_index(inplace=True)\n",
    "mainSectorRaisedAmount.reset_index(inplace=True)\n",
    "groupedDataD3 = mainSectorRaisedAmount.merge(mainSectorCount, on='mainSector')\n",
    "D3 = D3.merge(groupedDataD3, on='mainSector')"
   ]
  },
  {
   "cell_type": "markdown",
   "metadata": {},
   "source": [
    "# Total number of investments (count)\n",
    "\n"
   ]
  },
  {
   "cell_type": "code",
   "execution_count": 809,
   "metadata": {},
   "outputs": [
    {
     "data": {
      "text/plain": [
       "9942"
      ]
     },
     "execution_count": 809,
     "metadata": {},
     "output_type": "execute_result"
    }
   ],
   "source": [
    "groupedDataD1.permalink.sum()"
   ]
  },
  {
   "cell_type": "code",
   "execution_count": 810,
   "metadata": {},
   "outputs": [
    {
     "data": {
      "text/plain": [
       "559"
      ]
     },
     "execution_count": 810,
     "metadata": {},
     "output_type": "execute_result"
    }
   ],
   "source": [
    "groupedDataD2.permalink.sum()"
   ]
  },
  {
   "cell_type": "code",
   "execution_count": 811,
   "metadata": {},
   "outputs": [
    {
     "data": {
      "text/plain": [
       "243"
      ]
     },
     "execution_count": 811,
     "metadata": {},
     "output_type": "execute_result"
    }
   ],
   "source": [
    "groupedDataD3.permalink.sum()"
   ]
  },
  {
   "cell_type": "markdown",
   "metadata": {},
   "source": [
    "# Total number of investments (USD)\n"
   ]
  },
  {
   "cell_type": "code",
   "execution_count": 812,
   "metadata": {},
   "outputs": [
    {
     "data": {
      "text/plain": [
       "88638294664.0"
      ]
     },
     "execution_count": 812,
     "metadata": {},
     "output_type": "execute_result"
    }
   ],
   "source": [
    "groupedDataD1.raised_amount_usd.sum()"
   ]
  },
  {
   "cell_type": "code",
   "execution_count": 813,
   "metadata": {},
   "outputs": [
    {
     "data": {
      "text/plain": [
       "4875228300.0"
      ]
     },
     "execution_count": 813,
     "metadata": {},
     "output_type": "execute_result"
    }
   ],
   "source": [
    "groupedDataD2.raised_amount_usd.sum()"
   ]
  },
  {
   "cell_type": "code",
   "execution_count": 814,
   "metadata": {},
   "outputs": [
    {
     "data": {
      "text/plain": [
       "2174543602.0"
      ]
     },
     "execution_count": 814,
     "metadata": {},
     "output_type": "execute_result"
    }
   ],
   "source": [
    "groupedDataD3.raised_amount_usd.sum()"
   ]
  },
  {
   "cell_type": "markdown",
   "metadata": {},
   "source": [
    "# Top sector (based on count of investments)"
   ]
  },
  {
   "cell_type": "code",
   "execution_count": 815,
   "metadata": {},
   "outputs": [
    {
     "data": {
      "text/html": [
       "<div>\n",
       "<style>\n",
       "    .dataframe thead tr:only-child th {\n",
       "        text-align: right;\n",
       "    }\n",
       "\n",
       "    .dataframe thead th {\n",
       "        text-align: left;\n",
       "    }\n",
       "\n",
       "    .dataframe tbody tr th {\n",
       "        vertical-align: top;\n",
       "    }\n",
       "</style>\n",
       "<table border=\"1\" class=\"dataframe\">\n",
       "  <thead>\n",
       "    <tr style=\"text-align: right;\">\n",
       "      <th></th>\n",
       "      <th>mainSector</th>\n",
       "      <th>raised_amount_usd</th>\n",
       "      <th>permalink</th>\n",
       "    </tr>\n",
       "  </thead>\n",
       "  <tbody>\n",
       "    <tr>\n",
       "      <th>6</th>\n",
       "      <td>Others</td>\n",
       "      <td>2.173601e+10</td>\n",
       "      <td>2423</td>\n",
       "    </tr>\n",
       "    <tr>\n",
       "      <th>7</th>\n",
       "      <td>Social, Finance, Analytics, Advertising</td>\n",
       "      <td>1.939738e+10</td>\n",
       "      <td>2216</td>\n",
       "    </tr>\n",
       "    <tr>\n",
       "      <th>1</th>\n",
       "      <td>Cleantech / Semiconductors</td>\n",
       "      <td>1.780163e+10</td>\n",
       "      <td>1951</td>\n",
       "    </tr>\n",
       "  </tbody>\n",
       "</table>\n",
       "</div>"
      ],
      "text/plain": [
       "                                mainSector  raised_amount_usd  permalink\n",
       "6                                   Others       2.173601e+10       2423\n",
       "7  Social, Finance, Analytics, Advertising       1.939738e+10       2216\n",
       "1               Cleantech / Semiconductors       1.780163e+10       1951"
      ]
     },
     "execution_count": 815,
     "metadata": {},
     "output_type": "execute_result"
    }
   ],
   "source": [
    "groupedDataD1.sort_values(by='permalink', ascending=False).head(3)"
   ]
  },
  {
   "cell_type": "code",
   "execution_count": 816,
   "metadata": {},
   "outputs": [
    {
     "data": {
      "text/html": [
       "<div>\n",
       "<style>\n",
       "    .dataframe thead tr:only-child th {\n",
       "        text-align: right;\n",
       "    }\n",
       "\n",
       "    .dataframe thead th {\n",
       "        text-align: left;\n",
       "    }\n",
       "\n",
       "    .dataframe tbody tr th {\n",
       "        vertical-align: top;\n",
       "    }\n",
       "</style>\n",
       "<table border=\"1\" class=\"dataframe\">\n",
       "  <thead>\n",
       "    <tr style=\"text-align: right;\">\n",
       "      <th></th>\n",
       "      <th>mainSector</th>\n",
       "      <th>raised_amount_usd</th>\n",
       "      <th>permalink</th>\n",
       "    </tr>\n",
       "  </thead>\n",
       "  <tbody>\n",
       "    <tr>\n",
       "      <th>6</th>\n",
       "      <td>Others</td>\n",
       "      <td>1.123624e+09</td>\n",
       "      <td>129</td>\n",
       "    </tr>\n",
       "    <tr>\n",
       "      <th>1</th>\n",
       "      <td>Cleantech / Semiconductors</td>\n",
       "      <td>1.110140e+09</td>\n",
       "      <td>124</td>\n",
       "    </tr>\n",
       "    <tr>\n",
       "      <th>7</th>\n",
       "      <td>Social, Finance, Analytics, Advertising</td>\n",
       "      <td>9.744040e+08</td>\n",
       "      <td>118</td>\n",
       "    </tr>\n",
       "  </tbody>\n",
       "</table>\n",
       "</div>"
      ],
      "text/plain": [
       "                                mainSector  raised_amount_usd  permalink\n",
       "6                                   Others       1.123624e+09        129\n",
       "1               Cleantech / Semiconductors       1.110140e+09        124\n",
       "7  Social, Finance, Analytics, Advertising       9.744040e+08        118"
      ]
     },
     "execution_count": 816,
     "metadata": {},
     "output_type": "execute_result"
    }
   ],
   "source": [
    "groupedDataD2.sort_values(by='permalink', ascending=False).head(3)"
   ]
  },
  {
   "cell_type": "code",
   "execution_count": 817,
   "metadata": {},
   "outputs": [
    {
     "data": {
      "text/html": [
       "<div>\n",
       "<style>\n",
       "    .dataframe thead tr:only-child th {\n",
       "        text-align: right;\n",
       "    }\n",
       "\n",
       "    .dataframe thead th {\n",
       "        text-align: left;\n",
       "    }\n",
       "\n",
       "    .dataframe tbody tr th {\n",
       "        vertical-align: top;\n",
       "    }\n",
       "</style>\n",
       "<table border=\"1\" class=\"dataframe\">\n",
       "  <thead>\n",
       "    <tr style=\"text-align: right;\">\n",
       "      <th></th>\n",
       "      <th>mainSector</th>\n",
       "      <th>raised_amount_usd</th>\n",
       "      <th>permalink</th>\n",
       "    </tr>\n",
       "  </thead>\n",
       "  <tbody>\n",
       "    <tr>\n",
       "      <th>6</th>\n",
       "      <td>Others</td>\n",
       "      <td>703409507.0</td>\n",
       "      <td>78</td>\n",
       "    </tr>\n",
       "    <tr>\n",
       "      <th>7</th>\n",
       "      <td>Social, Finance, Analytics, Advertising</td>\n",
       "      <td>385549550.0</td>\n",
       "      <td>45</td>\n",
       "    </tr>\n",
       "    <tr>\n",
       "      <th>5</th>\n",
       "      <td>News, Search and Messaging</td>\n",
       "      <td>368834545.0</td>\n",
       "      <td>41</td>\n",
       "    </tr>\n",
       "  </tbody>\n",
       "</table>\n",
       "</div>"
      ],
      "text/plain": [
       "                                mainSector  raised_amount_usd  permalink\n",
       "6                                   Others        703409507.0         78\n",
       "7  Social, Finance, Analytics, Advertising        385549550.0         45\n",
       "5               News, Search and Messaging        368834545.0         41"
      ]
     },
     "execution_count": 817,
     "metadata": {},
     "output_type": "execute_result"
    }
   ],
   "source": [
    "groupedDataD3.sort_values(by='permalink', ascending=False).head(3)"
   ]
  },
  {
   "cell_type": "markdown",
   "metadata": {},
   "source": [
    "# Number of investments in top sector"
   ]
  },
  {
   "cell_type": "markdown",
   "metadata": {},
   "source": [
    "Result above also displays the no. of investment in top sector \n",
    "\n",
    "So, Final Result is:\n",
    "\n",
    "1) Country1 -> USA -> Others -> 2423\n",
    "\n",
    "2) Country1 -> GBR -> Others -> 129\n",
    "\n",
    "3) Country1 -> IND -> Others -> 78"
   ]
  },
  {
   "cell_type": "markdown",
   "metadata": {},
   "source": [
    "# Number of investments in second sector"
   ]
  },
  {
   "cell_type": "markdown",
   "metadata": {},
   "source": [
    "No. of investment in second sector \n",
    "\n",
    "So, Final Result is:\n",
    "\n",
    "1) Country1 -> USA -> Social, Finance, Analytics, Advertising -> 2216\n",
    "\n",
    "2) Country1 -> GBR -> Cleantech / Semiconductors -> 124\n",
    "\n",
    "3) Country1 -> IND -> Social, Finance, Analytics, Advertising -> 45"
   ]
  },
  {
   "cell_type": "markdown",
   "metadata": {},
   "source": [
    "# Number of investments in third sector"
   ]
  },
  {
   "cell_type": "markdown",
   "metadata": {},
   "source": [
    "No. of investment in third sector \n",
    "\n",
    "So, Final Result is:\n",
    "\n",
    "1) Country1 -> USA -> Cleantech / Semiconductors -> 1951\n",
    "\n",
    "2) Country1 -> GBR -> Social, Finance, Analytics, Advertising -> 118\n",
    "\n",
    "3) Country1 -> IND -> News, Search and Messaging -> 41"
   ]
  },
  {
   "cell_type": "markdown",
   "metadata": {},
   "source": [
    "# Which company received the highest investment (top sector count-wise)"
   ]
  },
  {
   "cell_type": "code",
   "execution_count": 818,
   "metadata": {},
   "outputs": [
    {
     "data": {
      "text/plain": [
       "2216     /ORGANIZATION/128-TECHNOLOGY\n",
       "3826    /ORGANIZATION/SPECTRUM-BRIDGE\n",
       "Name: permalink_x, dtype: object"
      ]
     },
     "execution_count": 818,
     "metadata": {},
     "output_type": "execute_result"
    }
   ],
   "source": [
    "D1Other = D1[D1['mainSector'] == 'Others']\n",
    "D1Other.sort_values(by='permalink_y', ascending=False)['permalink_x'].head(2)"
   ]
  },
  {
   "cell_type": "code",
   "execution_count": 819,
   "metadata": {},
   "outputs": [
    {
     "data": {
      "text/plain": [
       "378          /ORGANIZATION/ACS-CLOTHING\n",
       "443    /ORGANIZATION/ROOTSTOCK-SOFTWARE\n",
       "Name: permalink_x, dtype: object"
      ]
     },
     "execution_count": 819,
     "metadata": {},
     "output_type": "execute_result"
    }
   ],
   "source": [
    "D2Other = D2[D2['mainSector'] == 'Others']\n",
    "D2Other.sort_values(by='permalink_y', ascending=False)['permalink_x'].head(2)"
   ]
  },
  {
   "cell_type": "code",
   "execution_count": 820,
   "metadata": {},
   "outputs": [
    {
     "data": {
      "text/plain": [
       "23     /ORGANIZATION/21DIAMONDS-INDIA\n",
       "72    /ORGANIZATION/AZURE-HOSPITALITY\n",
       "Name: permalink_x, dtype: object"
      ]
     },
     "execution_count": 820,
     "metadata": {},
     "output_type": "execute_result"
    }
   ],
   "source": [
    "D3Other = D3[D3['mainSector'] == 'Others']\n",
    "D3Other.sort_values(by='permalink_y', ascending=False)['permalink_x'].head(2)"
   ]
  },
  {
   "cell_type": "markdown",
   "metadata": {},
   "source": [
    "# Which company received the highest investment (top sector count-wise)\n"
   ]
  },
  {
   "cell_type": "markdown",
   "metadata": {},
   "source": [
    "From the result above we can find out the same"
   ]
  },
  {
   "cell_type": "markdown",
   "metadata": {},
   "source": [
    "# Checkpoint 6: Plots"
   ]
  },
  {
   "cell_type": "markdown",
   "metadata": {},
   "source": [
    "# A plot for total investments (globally) in venture, seed, and private equity, and the average amount of investment in each funding type. \n"
   ]
  },
  {
   "cell_type": "code",
   "execution_count": 821,
   "metadata": {
    "collapsed": true
   },
   "outputs": [],
   "source": [
    "# Merge rounds2 and companies to get master_frame\n",
    "master_frame = rounds2.merge(companies, on='permalink', how='left')\n"
   ]
  },
  {
   "cell_type": "code",
   "execution_count": 822,
   "metadata": {
    "collapsed": true
   },
   "outputs": [],
   "source": [
    "fundingTypeFrame = master_frame[master_frame['funding_round_type'].isin(['venture', 'seed', 'private_equity'])]"
   ]
  },
  {
   "cell_type": "code",
   "execution_count": 823,
   "metadata": {
    "collapsed": true
   },
   "outputs": [],
   "source": [
    "fundingTypeSum = fundingTypeFrame.groupby(by='funding_round_type')['raised_amount_usd'].sum().to_frame()\n",
    "totalSumRaised = master_frame.raised_amount_usd.sum()\n",
    "fundingTypeSum.reset_index(inplace=True)\n",
    "fundingTypeSum['raised_amount_fraction'] = fundingTypeSum['raised_amount_usd'] / totalSumRaised"
   ]
  },
  {
   "cell_type": "code",
   "execution_count": 824,
   "metadata": {},
   "outputs": [
    {
     "data": {
      "text/html": [
       "<div>\n",
       "<style>\n",
       "    .dataframe thead tr:only-child th {\n",
       "        text-align: right;\n",
       "    }\n",
       "\n",
       "    .dataframe thead th {\n",
       "        text-align: left;\n",
       "    }\n",
       "\n",
       "    .dataframe tbody tr th {\n",
       "        vertical-align: top;\n",
       "    }\n",
       "</style>\n",
       "<table border=\"1\" class=\"dataframe\">\n",
       "  <thead>\n",
       "    <tr style=\"text-align: right;\">\n",
       "      <th></th>\n",
       "      <th>funding_round_type</th>\n",
       "      <th>raised_amount_usd</th>\n",
       "      <th>raised_amount_fraction</th>\n",
       "    </tr>\n",
       "  </thead>\n",
       "  <tbody>\n",
       "    <tr>\n",
       "      <th>0</th>\n",
       "      <td>private_equity</td>\n",
       "      <td>1.419254e+11</td>\n",
       "      <td>0.143341</td>\n",
       "    </tr>\n",
       "    <tr>\n",
       "      <th>1</th>\n",
       "      <td>seed</td>\n",
       "      <td>1.698986e+10</td>\n",
       "      <td>0.017159</td>\n",
       "    </tr>\n",
       "    <tr>\n",
       "      <th>2</th>\n",
       "      <td>venture</td>\n",
       "      <td>5.901262e+11</td>\n",
       "      <td>0.596012</td>\n",
       "    </tr>\n",
       "  </tbody>\n",
       "</table>\n",
       "</div>"
      ],
      "text/plain": [
       "  funding_round_type  raised_amount_usd  raised_amount_fraction\n",
       "0     private_equity       1.419254e+11                0.143341\n",
       "1               seed       1.698986e+10                0.017159\n",
       "2            venture       5.901262e+11                0.596012"
      ]
     },
     "execution_count": 824,
     "metadata": {},
     "output_type": "execute_result"
    }
   ],
   "source": [
    "fundingTypeSum"
   ]
  },
  {
   "cell_type": "code",
   "execution_count": 825,
   "metadata": {
    "collapsed": true
   },
   "outputs": [],
   "source": [
    "fundingTypeMean = fundingTypeFrame.groupby(by='funding_round_type')['raised_amount_usd'].mean().to_frame()\n",
    "fundingTypeMean.reset_index(inplace=True)"
   ]
  },
  {
   "cell_type": "code",
   "execution_count": 826,
   "metadata": {},
   "outputs": [],
   "source": [
    "plot1DF = fundingTypeSum.merge(fundingTypeMean, on='funding_round_type', how='inner')"
   ]
  },
  {
   "cell_type": "code",
   "execution_count": 827,
   "metadata": {},
   "outputs": [],
   "source": [
    "plot1DF.rename(columns={'raised_amount_usd_y':'raised_amount_mean'}, inplace=True)"
   ]
  },
  {
   "cell_type": "markdown",
   "metadata": {},
   "source": [
    "# A plot showing the fraction of total investments (globally) in venture, seed, and private equity, and the average amount of investment in each funding type."
   ]
  },
  {
   "cell_type": "code",
   "execution_count": 844,
   "metadata": {},
   "outputs": [
    {
     "data": {
      "image/png": "[encoded data removed]",
      "text/plain": [
       "<matplotlib.figure.Figure at 0x72db9403e668>"
      ]
     },
     "metadata": {},
     "output_type": "display_data"
    }
   ],
   "source": [
    "import matplotlib.pyplot as plt\n",
    "import seaborn as sns\n",
    "\n",
    "sns.set(style=\"white\")\n",
    "# Create 2 subplots for mean and sum respectively\n",
    "\n",
    "# increase figure size \n",
    "plt.figure(figsize=(12, 6))\n",
    "\n",
    "# subplot 1: statistic=mean\n",
    "plt.subplot(1, 2, 1)\n",
    "sns.barplot(x='funding_round_type', y='raised_amount_fraction', data=plot1DF)\n",
    "plt.title(\"Global Fraction of Funds Raised\")\n",
    "\n",
    "# subplot 2: statistic=sum\n",
    "plt.subplot(1, 2, 2)\n",
    "sns.barplot(x='funding_round_type', y='raised_amount_mean', data=plot1DF)\n",
    "plt.title(\"Mean of Funds Raised\")\n",
    "\n",
    "plt.show()"
   ]
  },
  {
   "cell_type": "markdown",
   "metadata": {},
   "source": [
    "# Plot showing the top 9 countries against the total amount of investments of funding type FT. "
   ]
  },
  {
   "cell_type": "code",
   "execution_count": 845,
   "metadata": {},
   "outputs": [
    {
     "data": {
      "image/png": "[encoded data removed]",
      "text/plain": [
       "<matplotlib.figure.Figure at 0x72db935c45c0>"
      ]
     },
     "metadata": {},
     "output_type": "display_data"
    }
   ],
   "source": [
    "plot2df = pd.DataFrame(top9)\n",
    "plot2df['country_code'] = plot2df.index\n",
    "sns.barplot(y='raised_amount_usd',x='country_code',data=plot2df)\n",
    "plt.show()"
   ]
  },
  {
   "cell_type": "markdown",
   "metadata": {
    "collapsed": true
   },
   "source": [
    "# A plot showing the number of investments in the top 3 sectors of the top 3 countries"
   ]
  },
  {
   "cell_type": "code",
   "execution_count": 846,
   "metadata": {},
   "outputs": [
    {
     "data": {
      "image/png": "[encoded data removed]",
      "text/plain": [
       "<matplotlib.figure.Figure at 0x72db935c4240>"
      ]
     },
     "metadata": {},
     "output_type": "display_data"
    }
   ],
   "source": [
    "#Ploting the required in 3 subplots, one per country based upon top 3 sectors per country as obtained during Checkpoint 5\n",
    "plt.figure(num=None, figsize=(10, 20), dpi=80, facecolor='w', edgecolor='k')\n",
    "\n",
    "plt.subplot(3, 1, 1)\n",
    "sns.barplot(x='mainSector',y='raised_amount_usd_x',data=D1[D1['mainSector'].isin(['Others', 'Social, Finance, Analytics, Advertising', 'Cleantech / Semiconductors'])], estimator=np.size)\n",
    "plt.title('Investment for USA in Venture')\n",
    "\n",
    "plt.subplot(3, 1, 2)\n",
    "sns.barplot(x='mainSector',y='raised_amount_usd_x',data=D2[D2['mainSector'].isin(['Others','Cleantech / Semiconductors','Social, Finance, Analytics, Advertising'])], estimator=np.size)\n",
    "plt.title('Investment for GBR in Venture')\n",
    "\n",
    "plt.subplot(3, 1, 3)\n",
    "sns.barplot(x='mainSector',y='raised_amount_usd_x',data=D3[D3['mainSector'].isin(['Others', 'Social, Finance, Analytics, Advertising', 'News, Search and Messaging'])], estimator=np.size)\n",
    "plt.title('Investment for IND in Venture')\n",
    "plt.show()"
   ]
  },
  {
   "cell_type": "markdown",
   "metadata": {},
   "source": [
    "# Thank You"
   ]
  },
  {
   "cell_type": "code",
   "execution_count": null,
   "metadata": {
    "collapsed": true
   },
   "outputs": [],
   "source": []
  }
 ],
 "metadata": {
  "kernelspec": {
   "display_name": "Python 3",
   "language": "python",
   "name": "python3"
  },
  "language_info": {
   "codemirror_mode": {
    "name": "ipython",
    "version": 3
   },
   "file_extension": ".py",
   "mimetype": "text/x-python",
   "name": "python",
   "nbconvert_exporter": "python",
   "pygments_lexer": "ipython3",
   "version": "3.6.1"
  }
 },
 "nbformat": 4,
 "nbformat_minor": 2
}
